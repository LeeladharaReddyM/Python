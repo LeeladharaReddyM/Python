{
 "cells": [
  {
   "cell_type": "code",
   "execution_count": 154,
   "id": "1f21c355-0cd7-4328-90df-db0381fcdb71",
   "metadata": {},
   "outputs": [
    {
     "data": {
      "text/plain": [
       "[723, 'FreeFire', True, False, 90.99, 11.06, 32]"
      ]
     },
     "execution_count": 154,
     "metadata": {},
     "output_type": "execute_result"
    }
   ],
   "source": [
    "a=[723,\"FreeFire\",True,False,90.99,11.06,32]\n",
    "a"
   ]
  },
  {
   "cell_type": "code",
   "execution_count": 156,
   "id": "17c243d4-360d-4eff-a901-31f52f8dab19",
   "metadata": {},
   "outputs": [
    {
     "data": {
      "text/plain": [
       "90.99"
      ]
     },
     "execution_count": 156,
     "metadata": {},
     "output_type": "execute_result"
    }
   ],
   "source": [
    "a[4]"
   ]
  },
  {
   "cell_type": "code",
   "execution_count": 158,
   "id": "0b25fe7d-5cdc-4e07-adef-b91167b6ccb8",
   "metadata": {},
   "outputs": [
    {
     "data": {
      "text/plain": [
       "90.99"
      ]
     },
     "execution_count": 158,
     "metadata": {},
     "output_type": "execute_result"
    }
   ],
   "source": [
    "a[-3]"
   ]
  },
  {
   "cell_type": "code",
   "execution_count": 160,
   "id": "a8ef2fc6-35f8-47b7-b732-e45e7151ad2d",
   "metadata": {},
   "outputs": [
    {
     "data": {
      "text/plain": [
       "['FreeFire', True, False, 90.99, 11.06]"
      ]
     },
     "execution_count": 160,
     "metadata": {},
     "output_type": "execute_result"
    }
   ],
   "source": [
    "a[1:6]"
   ]
  },
  {
   "cell_type": "code",
   "execution_count": 162,
   "id": "e3042369-269f-4d70-9b9f-862db08d8c5a",
   "metadata": {},
   "outputs": [
    {
     "data": {
      "text/plain": [
       "['FreeFire', 90.99]"
      ]
     },
     "execution_count": 162,
     "metadata": {},
     "output_type": "execute_result"
    }
   ],
   "source": [
    "a[1:6:3]"
   ]
  },
  {
   "cell_type": "code",
   "execution_count": 164,
   "id": "faa1dd88-08c3-41b1-afcb-073986cc8f56",
   "metadata": {},
   "outputs": [
    {
     "data": {
      "text/plain": [
       "[723, 'FreeFire', True, False, 90.99, 11.06, 32, 20]"
      ]
     },
     "execution_count": 164,
     "metadata": {},
     "output_type": "execute_result"
    }
   ],
   "source": [
    "a.append(20)\n",
    "a"
   ]
  },
  {
   "cell_type": "code",
   "execution_count": 166,
   "id": "1c35ceb4-040f-4247-a46d-b3a7ff3743f1",
   "metadata": {},
   "outputs": [
    {
     "data": {
      "text/plain": [
       "[723, 'FreeFire', True, 66, False, 90.99, 11.06, 32, 20]"
      ]
     },
     "execution_count": 166,
     "metadata": {},
     "output_type": "execute_result"
    }
   ],
   "source": [
    "a.insert(3,66)\n",
    "a"
   ]
  },
  {
   "cell_type": "code",
   "execution_count": 168,
   "id": "7291c1d7-fb25-4ec0-b73a-a084ea42717d",
   "metadata": {},
   "outputs": [
    {
     "name": "stdout",
     "output_type": "stream",
     "text": [
      "[723, 'FreeFire', True, 66, False, 90.99, 11.06, 32, 20]\n"
     ]
    }
   ],
   "source": [
    "print(a)"
   ]
  },
  {
   "cell_type": "code",
   "execution_count": 170,
   "id": "6f814e23-dcad-498e-93b8-cc9002b1d334",
   "metadata": {},
   "outputs": [
    {
     "data": {
      "text/plain": [
       "[723, 'FreeFire', True, False, 90.99, 11.06, 32, 20]"
      ]
     },
     "execution_count": 170,
     "metadata": {},
     "output_type": "execute_result"
    }
   ],
   "source": [
    "a.pop(3),(4)\n",
    "a"
   ]
  },
  {
   "cell_type": "code",
   "execution_count": 172,
   "id": "a6907efa-e6cd-4e92-9188-d12369b39a67",
   "metadata": {},
   "outputs": [
    {
     "data": {
      "text/plain": [
       "32"
      ]
     },
     "execution_count": 172,
     "metadata": {},
     "output_type": "execute_result"
    }
   ],
   "source": [
    "a.pop(6)"
   ]
  },
  {
   "cell_type": "code",
   "execution_count": 174,
   "id": "3c05b847-5cdb-4da7-baf0-c0d0a2e96c3b",
   "metadata": {},
   "outputs": [
    {
     "data": {
      "text/plain": [
       "[723, 'FreeFire', True, False, 90.99, 11.06, 20]"
      ]
     },
     "execution_count": 174,
     "metadata": {},
     "output_type": "execute_result"
    }
   ],
   "source": [
    "a"
   ]
  },
  {
   "cell_type": "code",
   "execution_count": 176,
   "id": "604d526a-aafd-4974-ab2b-1db5971d0fd2",
   "metadata": {},
   "outputs": [],
   "source": [
    "a.remove(True)"
   ]
  },
  {
   "cell_type": "code",
   "execution_count": 178,
   "id": "a5b918a9-960e-4649-85a0-ae4379987680",
   "metadata": {},
   "outputs": [
    {
     "data": {
      "text/plain": [
       "[723, 'FreeFire', False, 90.99, 11.06, 20]"
      ]
     },
     "execution_count": 178,
     "metadata": {},
     "output_type": "execute_result"
    }
   ],
   "source": [
    "a"
   ]
  },
  {
   "cell_type": "code",
   "execution_count": 184,
   "id": "62459bc0-2495-44ae-b6d4-e6c11ff24214",
   "metadata": {},
   "outputs": [
    {
     "data": {
      "text/plain": [
       "[]"
      ]
     },
     "execution_count": 184,
     "metadata": {},
     "output_type": "execute_result"
    }
   ],
   "source": [
    "a=[1,2,3]\n",
    "a.clear()\n",
    "a"
   ]
  },
  {
   "cell_type": "code",
   "execution_count": 186,
   "id": "0d7c9b42-2eed-4880-a9ce-bab69db877ed",
   "metadata": {},
   "outputs": [],
   "source": [
    "a=[1,2,3]\n",
    "del a"
   ]
  }
 ],
 "metadata": {
  "kernelspec": {
   "display_name": "Python [conda env:base] *",
   "language": "python",
   "name": "conda-base-py"
  },
  "language_info": {
   "codemirror_mode": {
    "name": "ipython",
    "version": 3
   },
   "file_extension": ".py",
   "mimetype": "text/x-python",
   "name": "python",
   "nbconvert_exporter": "python",
   "pygments_lexer": "ipython3",
   "version": "3.12.7"
  }
 },
 "nbformat": 4,
 "nbformat_minor": 5
}
